{
  "nbformat": 4,
  "nbformat_minor": 0,
  "metadata": {
    "colab": {
      "name": "glaucomaRes_v1.ipynb",
      "provenance": [],
      "collapsed_sections": []
    },
    "kernelspec": {
      "name": "python3",
      "display_name": "Python 3"
    },
    "language_info": {
      "name": "python"
    }
  },
  "cells": [
    {
      "cell_type": "markdown",
      "metadata": {
        "id": "TMBFgorPc_NA"
      },
      "source": [
        "### **Importing Libs**"
      ]
    },
    {
      "cell_type": "code",
      "metadata": {
        "colab": {
          "base_uri": "https://localhost:8080/"
        },
        "id": "c2G-ta3Rc4uh",
        "outputId": "93debf2a-049d-4418-9e0e-2d9348a1ca3d"
      },
      "source": [
        "!pip install tensorflow-addons\n",
        "!pip install git+https://github.com/tensorflow/examples.git\n",
        "!pip install keras"
      ],
      "execution_count": 1,
      "outputs": [
        {
          "output_type": "stream",
          "text": [
            "Collecting tensorflow-addons\n",
            "  Downloading tensorflow_addons-0.13.0-cp37-cp37m-manylinux2010_x86_64.whl (679 kB)\n",
            "\u001b[?25l\r\u001b[K     |▌                               | 10 kB 24.9 MB/s eta 0:00:01\r\u001b[K     |█                               | 20 kB 31.9 MB/s eta 0:00:01\r\u001b[K     |█▌                              | 30 kB 18.6 MB/s eta 0:00:01\r\u001b[K     |██                              | 40 kB 12.4 MB/s eta 0:00:01\r\u001b[K     |██▍                             | 51 kB 5.4 MB/s eta 0:00:01\r\u001b[K     |███                             | 61 kB 5.5 MB/s eta 0:00:01\r\u001b[K     |███▍                            | 71 kB 5.3 MB/s eta 0:00:01\r\u001b[K     |███▉                            | 81 kB 5.9 MB/s eta 0:00:01\r\u001b[K     |████▍                           | 92 kB 5.8 MB/s eta 0:00:01\r\u001b[K     |████▉                           | 102 kB 4.9 MB/s eta 0:00:01\r\u001b[K     |█████▎                          | 112 kB 4.9 MB/s eta 0:00:01\r\u001b[K     |█████▉                          | 122 kB 4.9 MB/s eta 0:00:01\r\u001b[K     |██████▎                         | 133 kB 4.9 MB/s eta 0:00:01\r\u001b[K     |██████▊                         | 143 kB 4.9 MB/s eta 0:00:01\r\u001b[K     |███████▎                        | 153 kB 4.9 MB/s eta 0:00:01\r\u001b[K     |███████▊                        | 163 kB 4.9 MB/s eta 0:00:01\r\u001b[K     |████████▏                       | 174 kB 4.9 MB/s eta 0:00:01\r\u001b[K     |████████▊                       | 184 kB 4.9 MB/s eta 0:00:01\r\u001b[K     |█████████▏                      | 194 kB 4.9 MB/s eta 0:00:01\r\u001b[K     |█████████▋                      | 204 kB 4.9 MB/s eta 0:00:01\r\u001b[K     |██████████▏                     | 215 kB 4.9 MB/s eta 0:00:01\r\u001b[K     |██████████▋                     | 225 kB 4.9 MB/s eta 0:00:01\r\u001b[K     |███████████                     | 235 kB 4.9 MB/s eta 0:00:01\r\u001b[K     |███████████▋                    | 245 kB 4.9 MB/s eta 0:00:01\r\u001b[K     |████████████                    | 256 kB 4.9 MB/s eta 0:00:01\r\u001b[K     |████████████▌                   | 266 kB 4.9 MB/s eta 0:00:01\r\u001b[K     |█████████████                   | 276 kB 4.9 MB/s eta 0:00:01\r\u001b[K     |█████████████▌                  | 286 kB 4.9 MB/s eta 0:00:01\r\u001b[K     |██████████████                  | 296 kB 4.9 MB/s eta 0:00:01\r\u001b[K     |██████████████▌                 | 307 kB 4.9 MB/s eta 0:00:01\r\u001b[K     |███████████████                 | 317 kB 4.9 MB/s eta 0:00:01\r\u001b[K     |███████████████▍                | 327 kB 4.9 MB/s eta 0:00:01\r\u001b[K     |████████████████                | 337 kB 4.9 MB/s eta 0:00:01\r\u001b[K     |████████████████▍               | 348 kB 4.9 MB/s eta 0:00:01\r\u001b[K     |████████████████▉               | 358 kB 4.9 MB/s eta 0:00:01\r\u001b[K     |█████████████████▍              | 368 kB 4.9 MB/s eta 0:00:01\r\u001b[K     |█████████████████▉              | 378 kB 4.9 MB/s eta 0:00:01\r\u001b[K     |██████████████████▎             | 389 kB 4.9 MB/s eta 0:00:01\r\u001b[K     |██████████████████▉             | 399 kB 4.9 MB/s eta 0:00:01\r\u001b[K     |███████████████████▎            | 409 kB 4.9 MB/s eta 0:00:01\r\u001b[K     |███████████████████▊            | 419 kB 4.9 MB/s eta 0:00:01\r\u001b[K     |████████████████████▎           | 430 kB 4.9 MB/s eta 0:00:01\r\u001b[K     |████████████████████▊           | 440 kB 4.9 MB/s eta 0:00:01\r\u001b[K     |█████████████████████▏          | 450 kB 4.9 MB/s eta 0:00:01\r\u001b[K     |█████████████████████▊          | 460 kB 4.9 MB/s eta 0:00:01\r\u001b[K     |██████████████████████▏         | 471 kB 4.9 MB/s eta 0:00:01\r\u001b[K     |██████████████████████▋         | 481 kB 4.9 MB/s eta 0:00:01\r\u001b[K     |███████████████████████▏        | 491 kB 4.9 MB/s eta 0:00:01\r\u001b[K     |███████████████████████▋        | 501 kB 4.9 MB/s eta 0:00:01\r\u001b[K     |████████████████████████        | 512 kB 4.9 MB/s eta 0:00:01\r\u001b[K     |████████████████████████▋       | 522 kB 4.9 MB/s eta 0:00:01\r\u001b[K     |█████████████████████████       | 532 kB 4.9 MB/s eta 0:00:01\r\u001b[K     |█████████████████████████▌      | 542 kB 4.9 MB/s eta 0:00:01\r\u001b[K     |██████████████████████████      | 552 kB 4.9 MB/s eta 0:00:01\r\u001b[K     |██████████████████████████▌     | 563 kB 4.9 MB/s eta 0:00:01\r\u001b[K     |███████████████████████████     | 573 kB 4.9 MB/s eta 0:00:01\r\u001b[K     |███████████████████████████▌    | 583 kB 4.9 MB/s eta 0:00:01\r\u001b[K     |████████████████████████████    | 593 kB 4.9 MB/s eta 0:00:01\r\u001b[K     |████████████████████████████▍   | 604 kB 4.9 MB/s eta 0:00:01\r\u001b[K     |█████████████████████████████   | 614 kB 4.9 MB/s eta 0:00:01\r\u001b[K     |█████████████████████████████▍  | 624 kB 4.9 MB/s eta 0:00:01\r\u001b[K     |█████████████████████████████▉  | 634 kB 4.9 MB/s eta 0:00:01\r\u001b[K     |██████████████████████████████▍ | 645 kB 4.9 MB/s eta 0:00:01\r\u001b[K     |██████████████████████████████▉ | 655 kB 4.9 MB/s eta 0:00:01\r\u001b[K     |███████████████████████████████▎| 665 kB 4.9 MB/s eta 0:00:01\r\u001b[K     |███████████████████████████████▉| 675 kB 4.9 MB/s eta 0:00:01\r\u001b[K     |████████████████████████████████| 679 kB 4.9 MB/s \n",
            "\u001b[?25hRequirement already satisfied: typeguard>=2.7 in /usr/local/lib/python3.7/dist-packages (from tensorflow-addons) (2.7.1)\n",
            "Installing collected packages: tensorflow-addons\n",
            "Successfully installed tensorflow-addons-0.13.0\n",
            "Collecting git+https://github.com/tensorflow/examples.git\n",
            "  Cloning https://github.com/tensorflow/examples.git to /tmp/pip-req-build-nk284iu7\n",
            "  Running command git clone -q https://github.com/tensorflow/examples.git /tmp/pip-req-build-nk284iu7\n",
            "Requirement already satisfied: absl-py in /usr/local/lib/python3.7/dist-packages (from tensorflow-examples===eb9e4340b6d8033a1058c153a3a92f3d328f40e9-) (0.12.0)\n",
            "Requirement already satisfied: six in /usr/local/lib/python3.7/dist-packages (from tensorflow-examples===eb9e4340b6d8033a1058c153a3a92f3d328f40e9-) (1.15.0)\n",
            "Building wheels for collected packages: tensorflow-examples\n",
            "  Building wheel for tensorflow-examples (setup.py) ... \u001b[?25l\u001b[?25hdone\n",
            "  Created wheel for tensorflow-examples: filename=tensorflow_examples-eb9e4340b6d8033a1058c153a3a92f3d328f40e9_-py3-none-any.whl size=270921 sha256=165b2ed94d8e2ecfc4e1b0218044b0301f74d0364d3ede7e659bbc21a0b6f91b\n",
            "  Stored in directory: /tmp/pip-ephem-wheel-cache-7wh9c40d/wheels/eb/19/50/2a4363c831fa12b400af86325a6f26ade5d2cdc5b406d552ca\n",
            "\u001b[33m  WARNING: Built wheel for tensorflow-examples is invalid: Metadata 1.2 mandates PEP 440 version, but 'eb9e4340b6d8033a1058c153a3a92f3d328f40e9-' is not\u001b[0m\n",
            "Failed to build tensorflow-examples\n",
            "Installing collected packages: tensorflow-examples\n",
            "    Running setup.py install for tensorflow-examples ... \u001b[?25l\u001b[?25hdone\n",
            "\u001b[33m  DEPRECATION: tensorflow-examples was installed using the legacy 'setup.py install' method, because a wheel could not be built for it. A possible replacement is to fix the wheel build issue reported above. You can find discussion regarding this at https://github.com/pypa/pip/issues/8368.\u001b[0m\n",
            "Successfully installed tensorflow-examples-eb9e4340b6d8033a1058c153a3a92f3d328f40e9-\n",
            "Requirement already satisfied: keras in /usr/local/lib/python3.7/dist-packages (2.4.3)\n",
            "Requirement already satisfied: pyyaml in /usr/local/lib/python3.7/dist-packages (from keras) (3.13)\n",
            "Requirement already satisfied: h5py in /usr/local/lib/python3.7/dist-packages (from keras) (3.1.0)\n",
            "Requirement already satisfied: numpy>=1.9.1 in /usr/local/lib/python3.7/dist-packages (from keras) (1.19.5)\n",
            "Requirement already satisfied: scipy>=0.14 in /usr/local/lib/python3.7/dist-packages (from keras) (1.4.1)\n",
            "Requirement already satisfied: cached-property in /usr/local/lib/python3.7/dist-packages (from h5py->keras) (1.5.2)\n"
          ],
          "name": "stdout"
        }
      ]
    },
    {
      "cell_type": "code",
      "metadata": {
        "id": "O7xJkj25dYr8"
      },
      "source": [
        "from glob import glob\n",
        "import os\n",
        "from tensorflow_examples.models.pix2pix import pix2pix\n",
        "from PIL import Image\n",
        "import IPython.display as display\n",
        "import matplotlib.pyplot as plt\n",
        "import numpy as np\n",
        "import tensorflow as tf\n",
        "import datetime, os\n",
        "from tensorflow.keras.layers import *\n",
        "from tensorflow.keras.callbacks import EarlyStopping, ModelCheckpoint\n",
        "from tensorflow.keras.optimizers import Adam\n",
        "from IPython.display import clear_output\n",
        "import tensorflow_addons as tfa\n",
        "\n",
        "from tqdm import tqdm\n",
        "\n",
        "import keras\n",
        "from keras.models import Sequential\n",
        "from keras.layers import Dense, Dropout, Flatten\n",
        "from keras.layers import Conv2D, MaxPooling2D\n",
        "from tensorflow.keras.utils import to_categorical\n",
        "from keras.preprocessing import image"
      ],
      "execution_count": 2,
      "outputs": []
    },
    {
      "cell_type": "code",
      "metadata": {
        "colab": {
          "base_uri": "https://localhost:8080/"
        },
        "id": "jUyCK2gJdZrh",
        "outputId": "fb33df8e-b593-4611-a92f-4c47c1a9206a"
      },
      "source": [
        "# For more information about autotune:\n",
        "# https://www.tensorflow.org/guide/data_performance#prefetching\n",
        "AUTOTUNE = tf.data.experimental.AUTOTUNE\n",
        "print(f\"Tensorflow ver. {tf.__version__}\")"
      ],
      "execution_count": 3,
      "outputs": [
        {
          "output_type": "stream",
          "text": [
            "Tensorflow ver. 2.5.0\n"
          ],
          "name": "stdout"
        }
      ]
    },
    {
      "cell_type": "markdown",
      "metadata": {
        "id": "efIrX9LrdeRy"
      },
      "source": [
        "### **Importing Dataset**"
      ]
    },
    {
      "cell_type": "code",
      "metadata": {
        "colab": {
          "base_uri": "https://localhost:8080/"
        },
        "id": "gAxcX7UxeeON",
        "outputId": "c0d21d9c-bab9-4fac-ff9d-45149c0e7f37"
      },
      "source": [
        "from google.colab import drive\n",
        "drive.mount('/content/drive')"
      ],
      "execution_count": null,
      "outputs": [
        {
          "output_type": "stream",
          "text": [
            "Mounted at /content/drive\n"
          ],
          "name": "stdout"
        }
      ]
    },
    {
      "cell_type": "code",
      "metadata": {
        "id": "cojzLFxbdbEr"
      },
      "source": [
        "### Path into dataset\n",
        "\n",
        "dataset_path = \"/content/drive/MyDrive/glaucoma_research/RIM-ONE-r3/dataset_v2\"\n",
        "healthy_images = dataset_path + \"/healthy/stereo\"\n",
        "glaucoma_images = dataset_path + \"/glaucoma_suspect/stereo\"\n",
        "healthy_masked = dataset_path + \"/healthy/average_mask\"\n",
        "glaucoma_masked = dataset_path + \"/glaucoma_suspect/avg_mask\"\n"
      ],
      "execution_count": null,
      "outputs": []
    },
    {
      "cell_type": "code",
      "metadata": {
        "colab": {
          "base_uri": "https://localhost:8080/",
          "height": 35
        },
        "id": "N-ZsjY8zOk82",
        "outputId": "2d7fb270-4605-4499-f300-1176c8e81c91"
      },
      "source": [
        "healthy_images"
      ],
      "execution_count": null,
      "outputs": [
        {
          "output_type": "execute_result",
          "data": {
            "application/vnd.google.colaboratory.intrinsic+json": {
              "type": "string"
            },
            "text/plain": [
              "'/content/drive/MyDrive/glaucoma_research/RIM-ONE-r3/dataset_v2/healthy/stereo'"
            ]
          },
          "metadata": {
            "tags": []
          },
          "execution_count": 77
        }
      ]
    },
    {
      "cell_type": "code",
      "metadata": {
        "colab": {
          "base_uri": "https://localhost:8080/"
        },
        "id": "YBlMvEcCIoWZ",
        "outputId": "eaab2550-fc15-4a91-dd5c-293f19deedd7"
      },
      "source": [
        "len(healthy_images)"
      ],
      "execution_count": null,
      "outputs": [
        {
          "output_type": "execute_result",
          "data": {
            "text/plain": [
              "78"
            ]
          },
          "metadata": {
            "tags": []
          },
          "execution_count": 65
        }
      ]
    },
    {
      "cell_type": "code",
      "metadata": {
        "colab": {
          "base_uri": "https://localhost:8080/"
        },
        "id": "zjx_7Mw0GwQy",
        "outputId": "a0cc3155-f0ef-44a6-900f-09373a7255d9"
      },
      "source": [
        "### Knowing the len of the images\n",
        "stereo_healthy = len(healthy_images + \"*.jpg\")\n",
        "print(f\"The originally healthy stereo {stereo_healthy} images.\")\n",
        "\n",
        "masked_healthy = len(healthy_masked + \"*png\")\n",
        "print(f\"The masked healthy {masked_healthy} images.\")\n",
        "\n",
        "stereo_glaucoma = len(glaucoma_images + \"*.jpg\")\n",
        "print(f\"The originally glaucoma stereo {stereo_glaucoma} images.\")\n",
        "\n",
        "masked_glaucoma = len(glaucoma_masked + \"*.png\")\n",
        "print(f\"The masked glaucoma {masked_glaucoma} images.\")"
      ],
      "execution_count": null,
      "outputs": [
        {
          "output_type": "stream",
          "text": [
            "The originally healthy stereo 83 images.\n",
            "The masked healthy 88 images.\n",
            "The originally glaucoma stereo 92 images.\n",
            "The masked glaucoma 94 images.\n"
          ],
          "name": "stdout"
        }
      ]
    },
    {
      "cell_type": "code",
      "metadata": {
        "id": "-Wp4wFSqCO-1"
      },
      "source": [
        "width = 256\n",
        "height = 256"
      ],
      "execution_count": null,
      "outputs": []
    },
    {
      "cell_type": "code",
      "metadata": {
        "id": "S-jZPQ2RLtw8"
      },
      "source": [
        "# originally image from the RIM ONe\n",
        "img_stereo = []\n",
        "#image masked average considered as the label\n",
        "label_masked = []\n",
        "#stereo and masked image as an array if needed\n",
        "stereo_array = []\n",
        "masked_array = []"
      ],
      "execution_count": null,
      "outputs": []
    },
    {
      "cell_type": "code",
      "metadata": {
        "colab": {
          "base_uri": "https://localhost:8080/",
          "height": 409
        },
        "id": "NJM7JO2M5uJL",
        "outputId": "642125c6-2f3a-4fbe-b409-4cfa5e2be867"
      },
      "source": [
        "for i in healthy_images:\n",
        "  img = image.load_img(healthy_images , \".jpg\")\n",
        "  print(img)\n",
        "  img = img.resize(width, height)\n",
        "  image_stereo.append(img)\n",
        "  img = np.array(img)\n",
        "  stereo_array(img)"
      ],
      "execution_count": null,
      "outputs": [
        {
          "output_type": "error",
          "ename": "IsADirectoryError",
          "evalue": "ignored",
          "traceback": [
            "\u001b[0;31m---------------------------------------------------------------------------\u001b[0m",
            "\u001b[0;31mIsADirectoryError\u001b[0m                         Traceback (most recent call last)",
            "\u001b[0;32m<ipython-input-79-ef69724f30b2>\u001b[0m in \u001b[0;36m<module>\u001b[0;34m()\u001b[0m\n\u001b[1;32m      1\u001b[0m \u001b[0;32mfor\u001b[0m \u001b[0mi\u001b[0m \u001b[0;32min\u001b[0m \u001b[0mhealthy_images\u001b[0m\u001b[0;34m:\u001b[0m\u001b[0;34m\u001b[0m\u001b[0;34m\u001b[0m\u001b[0m\n\u001b[0;32m----> 2\u001b[0;31m   \u001b[0mimg\u001b[0m \u001b[0;34m=\u001b[0m \u001b[0mimage\u001b[0m\u001b[0;34m.\u001b[0m\u001b[0mload_img\u001b[0m\u001b[0;34m(\u001b[0m\u001b[0mhealthy_images\u001b[0m \u001b[0;34m,\u001b[0m \u001b[0;34m\".jpg\"\u001b[0m\u001b[0;34m)\u001b[0m\u001b[0;34m\u001b[0m\u001b[0;34m\u001b[0m\u001b[0m\n\u001b[0m\u001b[1;32m      3\u001b[0m   \u001b[0mprint\u001b[0m\u001b[0;34m(\u001b[0m\u001b[0mimg\u001b[0m\u001b[0;34m)\u001b[0m\u001b[0;34m\u001b[0m\u001b[0;34m\u001b[0m\u001b[0m\n\u001b[1;32m      4\u001b[0m   \u001b[0mimg\u001b[0m \u001b[0;34m=\u001b[0m \u001b[0mimg\u001b[0m\u001b[0;34m.\u001b[0m\u001b[0mresize\u001b[0m\u001b[0;34m(\u001b[0m\u001b[0mwidth\u001b[0m\u001b[0;34m,\u001b[0m \u001b[0mheight\u001b[0m\u001b[0;34m)\u001b[0m\u001b[0;34m\u001b[0m\u001b[0;34m\u001b[0m\u001b[0m\n\u001b[1;32m      5\u001b[0m   \u001b[0mimage_stereo\u001b[0m\u001b[0;34m.\u001b[0m\u001b[0mappend\u001b[0m\u001b[0;34m(\u001b[0m\u001b[0mimg\u001b[0m\u001b[0;34m)\u001b[0m\u001b[0;34m\u001b[0m\u001b[0;34m\u001b[0m\u001b[0m\n",
            "\u001b[0;32m/usr/local/lib/python3.7/dist-packages/keras/preprocessing/image.py\u001b[0m in \u001b[0;36mload_img\u001b[0;34m(path, grayscale, color_mode, target_size, interpolation)\u001b[0m\n\u001b[1;32m    291\u001b[0m   \"\"\"\n\u001b[1;32m    292\u001b[0m   return image.load_img(path, grayscale=grayscale, color_mode=color_mode,\n\u001b[0;32m--> 293\u001b[0;31m                         target_size=target_size, interpolation=interpolation)\n\u001b[0m\u001b[1;32m    294\u001b[0m \u001b[0;34m\u001b[0m\u001b[0m\n\u001b[1;32m    295\u001b[0m \u001b[0;34m\u001b[0m\u001b[0m\n",
            "\u001b[0;32m/usr/local/lib/python3.7/dist-packages/keras_preprocessing/image/utils.py\u001b[0m in \u001b[0;36mload_img\u001b[0;34m(path, grayscale, color_mode, target_size, interpolation)\u001b[0m\n\u001b[1;32m    111\u001b[0m         raise ImportError('Could not import PIL.Image. '\n\u001b[1;32m    112\u001b[0m                           'The use of `load_img` requires PIL.')\n\u001b[0;32m--> 113\u001b[0;31m     \u001b[0;32mwith\u001b[0m \u001b[0mopen\u001b[0m\u001b[0;34m(\u001b[0m\u001b[0mpath\u001b[0m\u001b[0;34m,\u001b[0m \u001b[0;34m'rb'\u001b[0m\u001b[0;34m)\u001b[0m \u001b[0;32mas\u001b[0m \u001b[0mf\u001b[0m\u001b[0;34m:\u001b[0m\u001b[0;34m\u001b[0m\u001b[0;34m\u001b[0m\u001b[0m\n\u001b[0m\u001b[1;32m    114\u001b[0m         \u001b[0mimg\u001b[0m \u001b[0;34m=\u001b[0m \u001b[0mpil_image\u001b[0m\u001b[0;34m.\u001b[0m\u001b[0mopen\u001b[0m\u001b[0;34m(\u001b[0m\u001b[0mio\u001b[0m\u001b[0;34m.\u001b[0m\u001b[0mBytesIO\u001b[0m\u001b[0;34m(\u001b[0m\u001b[0mf\u001b[0m\u001b[0;34m.\u001b[0m\u001b[0mread\u001b[0m\u001b[0;34m(\u001b[0m\u001b[0;34m)\u001b[0m\u001b[0;34m)\u001b[0m\u001b[0;34m)\u001b[0m\u001b[0;34m\u001b[0m\u001b[0;34m\u001b[0m\u001b[0m\n\u001b[1;32m    115\u001b[0m         \u001b[0;32mif\u001b[0m \u001b[0mcolor_mode\u001b[0m \u001b[0;34m==\u001b[0m \u001b[0;34m'grayscale'\u001b[0m\u001b[0;34m:\u001b[0m\u001b[0;34m\u001b[0m\u001b[0;34m\u001b[0m\u001b[0m\n",
            "\u001b[0;31mIsADirectoryError\u001b[0m: [Errno 21] Is a directory: '/content/drive/MyDrive/glaucoma_research/RIM-ONE-r3/dataset_v2/healthy/stereo'"
          ]
        }
      ]
    },
    {
      "cell_type": "markdown",
      "metadata": {
        "id": "mcLGtJIqrn1Q"
      },
      "source": [
        "### **U-Net Implementation**\n",
        "implementasi u-net yang digunakan merupakan u-net versi pada umumnya"
      ]
    },
    {
      "cell_type": "code",
      "metadata": {
        "id": "HQb5n2LdgANp"
      },
      "source": [
        "# -- U-Net Implementation -- #\n",
        "\n",
        "\n",
        "# -- Encoder -- #\n",
        "# Block encoder 1\n",
        "\n",
        "# --- start with uncommend the input and the output --- #\n",
        "# inputs = Input(shape=input_size)\n",
        "conv_enc_1 = Conv2D(64, 3, activation='relu', padding='same', kernel_initializer=initializer)(inputs)\n",
        "conv_enc_1 = Conv2D(64, 3, activation = 'relu', padding='same', kernel_initializer=initializer)(conv_enc_1)\n",
        "\n",
        "# Block encoder 2\n",
        "max_pool_enc_2 = MaxPooling2D(pool_size=(2, 2))(conv_enc_1)\n",
        "conv_enc_2 = Conv2D(128, 3, activation = 'relu', padding = 'same', kernel_initializer = initializer)(max_pool_enc_2)\n",
        "conv_enc_2 = Conv2D(128, 3, activation = 'relu', padding = 'same', kernel_initializer = initializer)(conv_enc_2)\n",
        "\n",
        "# Block encoder 3\n",
        "max_pool_enc_3 = MaxPooling2D(pool_size=(2,2))(conv_enc_2)\n",
        "conv_enc_3 = Conv2D(256, 3, activation='relu', padding='same', kernel_initializer=initializer)(max_pool_enc_3)\n",
        "conv_enc_3 = Conv2D(256, 3, activation='relu', padding='same', kernel_initializer=initializer)(conv_enc_3)\n",
        "\n",
        "# Block  encoder 4\n",
        "max_pool_enc_4 = MaxPooling2D(pool_size=(2, 2))(conv_enc_3)\n",
        "conv_enc_4 = Conv2D(512, 3, activation = 'relu', padding = 'same', kernel_initializer = initializer)(max_pool_enc_4)\n",
        "conv_enc_4 = Conv2D(512, 3, activation = 'relu', padding = 'same', kernel_initializer = initializer)(conv_enc_4)\n",
        "# -- Encoder -- #\n",
        "\n",
        "# ==== #\n",
        "maxpool = MaxPooling2D(pool_size=(2, 2))(conv_enc_4)\n",
        "conv = Conv2D(1024, 3, activation = 'relu', padding = 'same', kernel_initializer = initializer)(maxpool)\n",
        "conv = Conv2D(1024, 3, activation = 'relu', padding = 'same', kernel_initializer = initializer)(conv)\n",
        "# ==== #\n",
        "\n",
        "# -- Dencode -- #\n",
        "# Block decoder 1\n",
        "up_dec_1 = Conv2D(512, 2, activation = 'relu', padding = 'same', kernel_initializer = initializer)(UpSampling2D(size = (2,2))(conv))\n",
        "merge_dec_1 = concatenate([conv_enc_4, up_dec_1], axis = 3)\n",
        "conv_dec_1 = Conv2D(512, 3, activation = 'relu', padding = 'same', kernel_initializer = initializer)(merge_dec_1)\n",
        "conv_dec_1 = Conv2D(512, 3, activation = 'relu', padding = 'same', kernel_initializer = initializer)(conv_dec_1)\n",
        "\n",
        "# Block decoder 2\n",
        "up_dec_2 = Conv2D(256, 2, activation = 'relu', padding = 'same', kernel_initializer = initializer)(UpSampling2D(size = (2,2))(conv_dec_1))\n",
        "merge_dec_2 = concatenate([conv_enc_3, up_dec_2], axis = 3)\n",
        "conv_dec_2 = Conv2D(256, 3, activation = 'relu', padding = 'same', kernel_initializer = initializer)(merge_dec_2)\n",
        "conv_dec_2 = Conv2D(256, 3, activation = 'relu', padding = 'same', kernel_initializer = initializer)(conv_dec_2)\n",
        "\n",
        "# Block decoder 3\n",
        "up_dec_3 = Conv2D(128, 2, activation = 'relu', padding = 'same', kernel_initializer = initializer)(UpSampling2D(size = (2,2))(conv_dec_2))\n",
        "merge_dec_3 = concatenate([conv_enc_2, up_dec_3], axis = 3)\n",
        "conv_dec_3 = Conv2D(128, 3, activation = 'relu', padding = 'same', kernel_initializer = initializer)(merge_dec_3)\n",
        "conv_dec_3 = Conv2D(128, 3, activation = 'relu', padding = 'same', kernel_initializer = initializer)(conv_dec_3)\n",
        "\n",
        "# Block decoder 4\n",
        "up_dec_4 = Conv2D(64, 2, activation = 'relu', padding = 'same', kernel_initializer = initializer)(UpSampling2D(size = (2,2))(conv_dec_3))\n",
        "merge_dec_4 = concatenate([conv_enc_1, up_dec_4], axis = 3)\n",
        "conv_dec_4 = Conv2D(64, 3, activation = 'relu', padding = 'same', kernel_initializer = initializer)(merge_dec_4)\n",
        "conv_dec_4 = Conv2D(64, 3, activation = 'relu', padding = 'same', kernel_initializer = initializer)(conv_dec_4)\n",
        "conv_dec_4 = Conv2D(2, 3, activation = 'relu', padding = 'same', kernel_initializer = initializer)(conv_dec_4)\n",
        "# -- Dencoder -- #\n",
        "\n",
        "#if start uncommend the output too\n",
        "# output = Conv2D(N_CLASSES, 1, activation = 'sigmoid')(conv_dec_4)"
      ],
      "execution_count": null,
      "outputs": []
    },
    {
      "cell_type": "markdown",
      "metadata": {
        "id": "ntnFfNOmnUpA"
      },
      "source": [
        "### **Dataset Cite**\n",
        "\n",
        "@inproceedings{\n",
        "  inproceedings,\n",
        "    author = {Fumero, Francisco and Sigut, Jose and Alayón, Silvia  andGonzález-Hernández, M and González de la Rosa, M},\n",
        "    year = {2015},\n",
        "    month = {06},\n",
        "    pages = {},\n",
        "    title = {Interactive Tool and Database for Optic Disc and   CupSegmentation of Stereo and Monocular Retinal Fundus Images}\n",
        "}"
      ]
    }
  ]
}