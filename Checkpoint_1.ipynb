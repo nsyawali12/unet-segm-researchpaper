{
  "nbformat": 4,
  "nbformat_minor": 0,
  "metadata": {
    "colab": {
      "name": "glaucomaRes_v7.ipynb",
      "provenance": [],
      "collapsed_sections": []
    },
    "kernelspec": {
      "display_name": "Python 3",
      "name": "python3"
    },
    "language_info": {
      "name": "python"
    }
  },
  "cells": [
    {
      "cell_type": "markdown",
      "metadata": {
        "id": "TMBFgorPc_NA"
      },
      "source": [
        "### **Importing Libs**"
      ]
    },
    {
      "cell_type": "code",
      "metadata": {
        "colab": {
          "base_uri": "https://localhost:8080/"
        },
        "id": "c2G-ta3Rc4uh",
        "outputId": "742d83c4-0302-46d6-ff3e-0284e96ba783"
      },
      "source": [
        "!pip install tensorflow-addons\n",
        "!pip install git+https://github.com/tensorflow/examples.git\n",
        "!pip install keras"
      ],
      "execution_count": 1,
      "outputs": [
        {
          "output_type": "stream",
          "text": [
            "Requirement already satisfied: tensorflow-addons in /usr/local/lib/python3.7/dist-packages (0.13.0)\n",
            "Requirement already satisfied: typeguard>=2.7 in /usr/local/lib/python3.7/dist-packages (from tensorflow-addons) (2.7.1)\n",
            "Collecting git+https://github.com/tensorflow/examples.git\n",
            "  Cloning https://github.com/tensorflow/examples.git to /tmp/pip-req-build-lwi54f5d\n",
            "  Running command git clone -q https://github.com/tensorflow/examples.git /tmp/pip-req-build-lwi54f5d\n",
            "Requirement already satisfied: absl-py in /usr/local/lib/python3.7/dist-packages (from tensorflow-examples===ad3ab9b65e67459172077d13acb5f7da83cabd80-) (0.12.0)\n",
            "Requirement already satisfied: six in /usr/local/lib/python3.7/dist-packages (from tensorflow-examples===ad3ab9b65e67459172077d13acb5f7da83cabd80-) (1.15.0)\n",
            "Requirement already satisfied: keras in /usr/local/lib/python3.7/dist-packages (2.4.3)\n",
            "Requirement already satisfied: pyyaml in /usr/local/lib/python3.7/dist-packages (from keras) (3.13)\n",
            "Requirement already satisfied: h5py in /usr/local/lib/python3.7/dist-packages (from keras) (3.1.0)\n",
            "Requirement already satisfied: scipy>=0.14 in /usr/local/lib/python3.7/dist-packages (from keras) (1.4.1)\n",
            "Requirement already satisfied: numpy>=1.9.1 in /usr/local/lib/python3.7/dist-packages (from keras) (1.19.5)\n",
            "Requirement already satisfied: cached-property in /usr/local/lib/python3.7/dist-packages (from h5py->keras) (1.5.2)\n"
          ],
          "name": "stdout"
        }
      ]
    },
    {
      "cell_type": "code",
      "metadata": {
        "id": "O7xJkj25dYr8"
      },
      "source": [
        "from glob import glob\n",
        "import os\n",
        "from tensorflow_examples.models.pix2pix import pix2pix\n",
        "import PIL\n",
        "from PIL import Image\n",
        "import IPython.display as display\n",
        "import matplotlib.pyplot as plt\n",
        "import numpy as np\n",
        "import tensorflow as tf\n",
        "import datetime, os\n",
        "from tensorflow.keras.layers import *\n",
        "from tensorflow.keras.callbacks import EarlyStopping, ModelCheckpoint\n",
        "from tensorflow.keras.optimizers import Adam\n",
        "from IPython.display import clear_output\n",
        "import tensorflow_addons as tfa\n",
        "\n",
        "import h5py\n",
        "\n",
        "from tqdm import tqdm\n",
        "import pathlib\n",
        "import urllib\n",
        "import cv2\n",
        "\n",
        "import keras\n",
        "from keras.models import Sequential\n",
        "from keras.layers import Dense, Dropout, Flatten\n",
        "from keras.layers import Conv2D, MaxPooling2D\n",
        "from tensorflow.keras.utils import to_categorical\n",
        "from keras.preprocessing import image"
      ],
      "execution_count": 2,
      "outputs": []
    },
    {
      "cell_type": "code",
      "metadata": {
        "colab": {
          "base_uri": "https://localhost:8080/"
        },
        "id": "jUyCK2gJdZrh",
        "outputId": "f0af266d-ed02-4248-b250-0f172a92b278"
      },
      "source": [
        "# For more information about autotune:\n",
        "# https://www.tensorflow.org/guide/data_performance#prefetching\n",
        "AUTOTUNE = tf.data.experimental.AUTOTUNE\n",
        "print(f\"Tensorflow ver. {tf.__version__}\")"
      ],
      "execution_count": 3,
      "outputs": [
        {
          "output_type": "stream",
          "text": [
            "Tensorflow ver. 2.5.0\n"
          ],
          "name": "stdout"
        }
      ]
    },
    {
      "cell_type": "markdown",
      "metadata": {
        "id": "efIrX9LrdeRy"
      },
      "source": [
        "### **Importing Dataset**"
      ]
    },
    {
      "cell_type": "code",
      "metadata": {
        "colab": {
          "base_uri": "https://localhost:8080/"
        },
        "id": "gAxcX7UxeeON",
        "outputId": "5dbd7b46-938e-488e-c443-7b7af31cb3c4"
      },
      "source": [
        "from google.colab import drive\n",
        "drive.mount('/content/drive')"
      ],
      "execution_count": 4,
      "outputs": [
        {
          "output_type": "stream",
          "text": [
            "Drive already mounted at /content/drive; to attempt to forcibly remount, call drive.mount(\"/content/drive\", force_remount=True).\n"
          ],
          "name": "stdout"
        }
      ]
    },
    {
      "cell_type": "code",
      "metadata": {
        "colab": {
          "base_uri": "https://localhost:8080/"
        },
        "id": "ZWK5gHIFHiUt",
        "outputId": "c331454c-58f7-4eba-e88d-4cd40d433672"
      },
      "source": [
        "!ls"
      ],
      "execution_count": 5,
      "outputs": [
        {
          "output_type": "stream",
          "text": [
            "drive  sample_data\n"
          ],
          "name": "stdout"
        }
      ]
    },
    {
      "cell_type": "markdown",
      "metadata": {
        "id": "1J9gn6PjNJAf"
      },
      "source": [
        "### Directory to the dataset\n",
        "\n",
        "```\n",
        "RIM-ONE-r3/dataset_v2/\n",
        "  healthy/stereo\n",
        "  healthy/average_mask\n",
        "  glaucoma_suspect/stereo\n",
        "  glaucoma_suspect/avg_mask\n",
        "```"
      ]
    },
    {
      "cell_type": "code",
      "metadata": {
        "id": "cojzLFxbdbEr"
      },
      "source": [
        "dataset_path = \"/content/drive/MyDrive/glaucoma_research/RIM-ONE-r3/dataset_v2/\"\n",
        "healthy_path = dataset_path + \"healthy/healthy_stereo/\"\n",
        "healthy_masked_path = dataset_path + \"healthy/avg_healthy_mask/\"\n",
        "glaucoma_path = dataset_path + \"glaucoma_suspect/glaucoma_stereo/\"\n",
        "glaucoma_masked_path = dataset_path + \"glaucoma_suspect/glaucoma_suspect_avg_mask/\""
      ],
      "execution_count": 6,
      "outputs": []
    },
    {
      "cell_type": "code",
      "metadata": {
        "id": "oLNcNyqtCI-F"
      },
      "source": [
        "image_healthy_left = healthy_path + \"N-%s-L.jpg\"\n",
        "image_healthy_right = healthy_path + \"N-%s-R.jpg\"\n",
        "\n",
        "image_glaucoma_left = glaucoma_path + \"G-%s-L.jpg\"\n",
        "image_glaucoma_right = glaucoma_path + \"G-%s-R.jpg\"\n",
        "\n",
        "image_suspect_left = glaucoma_path + \"S-%s-L\" + \".jpg\"\n",
        "image_suspect_right = glaucoma_path + \"S-%s-R\" + \".jpg\"\n",
        "\n",
        "masked_healthy_disc = healthy_masked_path + \"N-%d-%s-Disc-Avg.png\"\n",
        "masked_healthy_cup = healthy_masked_path + \"N-%d-%s-Cup-Avg.png\"\n",
        "\n",
        "masked_glaucoma_disc = glaucoma_masked_path + \"G-%d-%s-Disc-Avg.png\"\n",
        "masked_glaucoma_cup = glaucoma_masked_path + \"G-%d-%s-Cup-Avg.png\"\n",
        "\n",
        "masked_suspect_disc = glaucoma_masked_path + \"S-%d-%s-Disc-Avg.png\"\n",
        "masked_suspect_cup = glaucoma_masked_path + \"S-%d-%s-Cup-Avg.png\""
      ],
      "execution_count": 7,
      "outputs": []
    },
    {
      "cell_type": "code",
      "metadata": {
        "colab": {
          "base_uri": "https://localhost:8080/"
        },
        "id": "SY-zBv0NHkNq",
        "outputId": "4c780d57-c29f-4bfe-db4f-1743b6b6c061"
      },
      "source": [
        "print(len(image_glaucoma_left))"
      ],
      "execution_count": 8,
      "outputs": [
        {
          "output_type": "stream",
          "text": [
            "106\n"
          ],
          "name": "stdout"
        }
      ]
    },
    {
      "cell_type": "code",
      "metadata": {
        "colab": {
          "base_uri": "https://localhost:8080/"
        },
        "id": "zjx_7Mw0GwQy",
        "outputId": "f58a15a4-ac9f-4626-d84c-7ad911d25fbb"
      },
      "source": [
        "### Knowing the len of the images\n",
        "stereo_healthy = len(list(glob(healthy_path + \"*.jpg\")))\n",
        "print(f\"The originally healthy stereo {stereo_healthy} images.\")\n",
        "\n",
        "masked_healthy = len(glob(healthy_masked_path + \"*png\"))\n",
        "print(f\"The masked healthy {masked_healthy} images.\")\n",
        "\n",
        "stereo_glaucoma = len(glob(glaucoma_path + \"*.jpg\"))\n",
        "print(f\"The originally glaucoma stereo {stereo_glaucoma} images.\")\n",
        "\n",
        "masked_glaucoma = len(glob(glaucoma_masked_path + \"*png\"))\n",
        "print(f\"The masked glaucoma {masked_glaucoma} images.\")"
      ],
      "execution_count": 9,
      "outputs": [
        {
          "output_type": "stream",
          "text": [
            "The originally healthy stereo 85 images.\n",
            "The masked healthy 170 images.\n",
            "The originally glaucoma stereo 74 images.\n",
            "The masked glaucoma 148 images.\n"
          ],
          "name": "stdout"
        }
      ]
    },
    {
      "cell_type": "markdown",
      "metadata": {
        "id": "FQ7fjNY6v3kZ"
      },
      "source": [
        "format initiation for to separate the image between left right both Healthy and Glaucoma Suspected also the disc and cups"
      ]
    },
    {
      "cell_type": "code",
      "metadata": {
        "id": "fbklwoYc8Hus"
      },
      "source": [
        "def open_image(path, width, height):\n",
        "    try :\n",
        "        image = cv2.imread(path)\n",
        "        image = cv2.resize(image, (width, height))\n",
        "        return image\n",
        "    except:\n",
        "        return []"
      ],
      "execution_count": 10,
      "outputs": []
    },
    {
      "cell_type": "code",
      "metadata": {
        "id": "rcnE1aVw8Llm"
      },
      "source": [
        "width = 256\n",
        "height = 256"
      ],
      "execution_count": 11,
      "outputs": []
    },
    {
      "cell_type": "markdown",
      "metadata": {
        "id": "08QDAXJ1n-3B"
      },
      "source": [
        "All the list gonna be used for the training model in one for all images category (Stereo, Disc, and Cup)"
      ]
    },
    {
      "cell_type": "code",
      "metadata": {
        "id": "WS2WuWlNeg5H"
      },
      "source": [
        "images_list = [] ## All Images Category in one list (Healthy, Glaucoma, Suspected)\n",
        "masked_disc_list = [] ## All Disc Images Category\n",
        "masked_cup_list = [] ## All Cup Images Category"
      ],
      "execution_count": 12,
      "outputs": []
    },
    {
      "cell_type": "markdown",
      "metadata": {
        "id": "2S58nwG4-IQd"
      },
      "source": [
        "Getting Image Healthy Left, Right, Masked Healty Disc and Cup."
      ]
    },
    {
      "cell_type": "code",
      "metadata": {
        "id": "Sik2qe628S6e"
      },
      "source": [
        "healthy_list = []\n",
        "masked_healthy_cup_list = []\n",
        "masked_healthy_disc_list = []\n",
        "\n",
        "for i in range(1, 93):\n",
        "    healthy_left = open_image(image_healthy_left % i, width, height)\n",
        "    healthy_right = open_image(image_healthy_right % i, width, height)\n",
        "    if (len(healthy_left) > 0):\n",
        "        healthy_list.append(healthy_left)\n",
        "        images_list.append(healthy_left)\n",
        "        masked_healthy_disc_left = open_image(masked_healthy_disc % (i, \"L\"), width, height)\n",
        "        masked_healthy_disc_list.append(masked_healthy_disc_left)\n",
        "        masked_disc_list.append(masked_healthy_disc_left)\n",
        "        masked_healthy_cup_left = open_image(masked_healthy_cup % (i, \"L\"), width, height)\n",
        "        masked_healthy_cup_list.append(masked_healthy_cup_left)\n",
        "        masked_cup_list.append(masked_healthy_cup_left)\n",
        "    elif(len(healthy_right) > 0):\n",
        "        healthy_list.append(healthy_right)\n",
        "        images_list.append(healthy_right)\n",
        "        masked_healthy_disc_right = open_image(masked_healthy_disc % (i, \"R\"), width, height)\n",
        "        masked_healthy_disc_list.append(masked_healthy_disc_right)\n",
        "        masked_disc_list.append(masked_healthy_disc_right)\n",
        "        masked_healthy_cup_right = open_image(masked_healthy_cup % (i, \"R\"), width, height)\n",
        "        masked_healthy_cup_list.append(masked_healthy_cup_right)\n",
        "        masked_cup_list.append(masked_healthy_cup_right)"
      ],
      "execution_count": 13,
      "outputs": []
    },
    {
      "cell_type": "code",
      "metadata": {
        "colab": {
          "base_uri": "https://localhost:8080/"
        },
        "id": "gx0HYqu84iN9",
        "outputId": "0a73fa9b-aaf6-4bec-a8f1-8affe75363b3"
      },
      "source": [
        "print(len(healthy_list), len(masked_healthy_cup_list), len(masked_healthy_disc_list)) "
      ],
      "execution_count": 14,
      "outputs": [
        {
          "output_type": "stream",
          "text": [
            "85 85 85\n"
          ],
          "name": "stdout"
        }
      ]
    },
    {
      "cell_type": "code",
      "metadata": {
        "colab": {
          "base_uri": "https://localhost:8080/"
        },
        "id": "WI5_gdsamH4v",
        "outputId": "55839c50-a99f-45a1-a3b6-ec2038cea346"
      },
      "source": [
        "print(len(images_list), len(masked_cup_list), len(masked_disc_list)) "
      ],
      "execution_count": 15,
      "outputs": [
        {
          "output_type": "stream",
          "text": [
            "85 85 85\n"
          ],
          "name": "stdout"
        }
      ]
    },
    {
      "cell_type": "markdown",
      "metadata": {
        "id": "pmbMkS33Ny8r"
      },
      "source": [
        "Getting Image Glaucoma Left, Right, Masked Glaucoma Disc and Cup."
      ]
    },
    {
      "cell_type": "code",
      "metadata": {
        "id": "fJzvy6ReRaMw"
      },
      "source": [
        "glaucoma_list = []\n",
        "masked_glaucoma_disc_list = []\n",
        "masked_glaucoma_cup_list = []\n",
        "\n",
        "for i in range(1, 41):\n",
        "  glaucoma_left = open_image(image_glaucoma_left % i, width, height)\n",
        "  glaucoma_right = open_image(image_glaucoma_right % i, width, height)\n",
        "  if (len(glaucoma_left) > 0):\n",
        "    glaucoma_list.append(glaucoma_left)\n",
        "    masked_glaucoma_disc_left = open_image(masked_glaucoma_disc % (i, \"L\"), width, height)\n",
        "    masked_glaucoma_disc_list.append(masked_glaucoma_disc_left)\n",
        "    masked_glaucoma_cup_left = open_image(masked_glaucoma_cup % (i, \"L\"), width, height)\n",
        "    masked_glaucoma_cup_list.append(masked_glaucoma_cup_left)\n",
        "  elif (len(glaucoma_right) > 0):\n",
        "    glaucoma_list.append(glaucoma_right)\n",
        "    masked_glaucoma_disc_right = open_image(masked_glaucoma_disc % (i, \"R\"), width, height)\n",
        "    masked_glaucoma_disc_list.append(masked_glaucoma_disc_right)\n",
        "    masked_glaucoma_cup_right = open_image(masked_glaucoma_cup % (i, \"R\"), width, height)\n",
        "    masked_glaucoma_cup_list.append(masked_glaucoma_cup_right)"
      ],
      "execution_count": 14,
      "outputs": []
    },
    {
      "cell_type": "code",
      "metadata": {
        "id": "kCwwtHj_K8yd",
        "colab": {
          "base_uri": "https://localhost:8080/"
        },
        "outputId": "a04b68fd-cf7d-4ea1-d554-2714dad5afe3"
      },
      "source": [
        "print(len(glaucoma_list), len(masked_glaucoma_disc_list), len(masked_glaucoma_cup_list)) "
      ],
      "execution_count": 15,
      "outputs": [
        {
          "output_type": "stream",
          "text": [
            "39 39 39\n"
          ],
          "name": "stdout"
        }
      ]
    },
    {
      "cell_type": "markdown",
      "metadata": {
        "id": "T5Jx5jFcOCPx"
      },
      "source": [
        "Getting Image Suspect Left, Right, Masked Suspect Disc and Cup."
      ]
    },
    {
      "cell_type": "code",
      "metadata": {
        "id": "S6XYTuIrN4gF"
      },
      "source": [
        "suspect_list = []\n",
        "masked_suspect_disc_list = []\n",
        "masked_suspect_cup_list = []\n",
        "\n",
        "for i in range(1, 36):\n",
        "  suspect_left = open_image(image_suspect_left % i, width, height)\n",
        "  suspect_right = open_image(image_suspect_right % i, width, height)\n",
        "  if (len(suspect_left) > 0):\n",
        "    suspect_list.append(suspect_left)\n",
        "    masked_suspect_disc_left = open_image(masked_suspect_disc % (i, \"L\"), width, height)\n",
        "    masked_suspect_disc_list.append(masked_suspect_disc_left)\n",
        "    masked_suspect_cup_left = open_image(masked_suspect_cup % (i, \"L\"), width, height)\n",
        "    masked_suspect_cup_list.append(masked_suspect_cup_left)\n",
        "  elif (len(suspect_right) > 0):\n",
        "    suspect_list.append(suspect_right)\n",
        "    masked_suspect_disc_right = open_image(masked_suspect_disc %  (i, \"R\"), width, height)\n",
        "    masked_suspect_disc_list.append(masked_suspect_disc_right)\n",
        "    masked_suspect_cup_right = open_image(masked_suspect_cup % (i, \"R\"), width, height)\n",
        "    masked_suspect_cup_list.append(masked_suspect_cup_right)"
      ],
      "execution_count": 16,
      "outputs": []
    },
    {
      "cell_type": "code",
      "metadata": {
        "colab": {
          "base_uri": "https://localhost:8080/"
        },
        "id": "hynAMj0thv06",
        "outputId": "6c866746-94c4-4c28-d702-3c8d49173847"
      },
      "source": [
        "print(len(suspect_list), len(masked_suspect_disc_list), len(masked_suspect_cup_list))"
      ],
      "execution_count": 17,
      "outputs": [
        {
          "output_type": "stream",
          "text": [
            "35 35 35\n"
          ],
          "name": "stdout"
        }
      ]
    },
    {
      "cell_type": "code",
      "metadata": {
        "colab": {
          "base_uri": "https://localhost:8080/",
          "height": 286
        },
        "id": "Q7CkiNGcRUqb",
        "outputId": "1ce94b61-8438-42e1-c5a8-525184618a2e"
      },
      "source": [
        "plt.imshow(healthy_list[2])"
      ],
      "execution_count": null,
      "outputs": [
        {
          "output_type": "execute_result",
          "data": {
            "text/plain": [
              "<matplotlib.image.AxesImage at 0x7f15cd126cd0>"
            ]
          },
          "metadata": {
            "tags": []
          },
          "execution_count": 37
        },
        {
          "output_type": "display_data",
          "data": {
            "image/png": "[encoded data removed]",
            "text/plain": [
              "<Figure size 432x288 with 1 Axes>"
            ]
          },
          "metadata": {
            "tags": [],
            "needs_background": "light"
          }
        }
      ]
    },
    {
      "cell_type": "markdown",
      "metadata": {
        "id": "mcLGtJIqrn1Q"
      },
      "source": [
        "### **U-Net Implementation**\n",
        "implementasi u-net yang digunakan merupakan u-net versi pada umumnya"
      ]
    },
    {
      "cell_type": "code",
      "metadata": {
        "id": "HQb5n2LdgANp"
      },
      "source": [
        "# -- U-Net Implementation -- #\n",
        "\n",
        "\n",
        "# -- Encoder -- #\n",
        "# Block encoder 1\n",
        "\n",
        "# --- start with uncommend the input and the output --- #\n",
        "# inputs = Input(shape=input_size)\n",
        "conv_enc_1 = Conv2D(64, 3, activation='relu', padding='same', kernel_initializer=initializer)(inputs)\n",
        "conv_enc_1 = Conv2D(64, 3, activation = 'relu', padding='same', kernel_initializer=initializer)(conv_enc_1)\n",
        "\n",
        "# Block encoder 2\n",
        "max_pool_enc_2 = MaxPooling2D(pool_size=(2, 2))(conv_enc_1)\n",
        "conv_enc_2 = Conv2D(128, 3, activation = 'relu', padding = 'same', kernel_initializer = initializer)(max_pool_enc_2)\n",
        "conv_enc_2 = Conv2D(128, 3, activation = 'relu', padding = 'same', kernel_initializer = initializer)(conv_enc_2)\n",
        "\n",
        "# Block encoder 3\n",
        "max_pool_enc_3 = MaxPooling2D(pool_size=(2,2))(conv_enc_2)\n",
        "conv_enc_3 = Conv2D(256, 3, activation='relu', padding='same', kernel_initializer=initializer)(max_pool_enc_3)\n",
        "conv_enc_3 = Conv2D(256, 3, activation='relu', padding='same', kernel_initializer=initializer)(conv_enc_3)\n",
        "\n",
        "# Block  encoder 4\n",
        "max_pool_enc_4 = MaxPooling2D(pool_size=(2, 2))(conv_enc_3)\n",
        "conv_enc_4 = Conv2D(512, 3, activation = 'relu', padding = 'same', kernel_initializer = initializer)(max_pool_enc_4)\n",
        "conv_enc_4 = Conv2D(512, 3, activation = 'relu', padding = 'same', kernel_initializer = initializer)(conv_enc_4)\n",
        "# -- Encoder -- #\n",
        "\n",
        "# ==== #\n",
        "maxpool = MaxPooling2D(pool_size=(2, 2))(conv_enc_4)\n",
        "conv = Conv2D(1024, 3, activation = 'relu', padding = 'same', kernel_initializer = initializer)(maxpool)\n",
        "conv = Conv2D(1024, 3, activation = 'relu', padding = 'same', kernel_initializer = initializer)(conv)\n",
        "# ==== #\n",
        "\n",
        "# -- Dencode -- #\n",
        "# Block decoder 1\n",
        "up_dec_1 = Conv2D(512, 2, activation = 'relu', padding = 'same', kernel_initializer = initializer)(UpSampling2D(size = (2,2))(conv))\n",
        "merge_dec_1 = concatenate([conv_enc_4, up_dec_1], axis = 3)\n",
        "conv_dec_1 = Conv2D(512, 3, activation = 'relu', padding = 'same', kernel_initializer = initializer)(merge_dec_1)\n",
        "conv_dec_1 = Conv2D(512, 3, activation = 'relu', padding = 'same', kernel_initializer = initializer)(conv_dec_1)\n",
        "\n",
        "# Block decoder 2\n",
        "up_dec_2 = Conv2D(256, 2, activation = 'relu', padding = 'same', kernel_initializer = initializer)(UpSampling2D(size = (2,2))(conv_dec_1))\n",
        "merge_dec_2 = concatenate([conv_enc_3, up_dec_2], axis = 3)\n",
        "conv_dec_2 = Conv2D(256, 3, activation = 'relu', padding = 'same', kernel_initializer = initializer)(merge_dec_2)\n",
        "conv_dec_2 = Conv2D(256, 3, activation = 'relu', padding = 'same', kernel_initializer = initializer)(conv_dec_2)\n",
        "\n",
        "# Block decoder 3\n",
        "up_dec_3 = Conv2D(128, 2, activation = 'relu', padding = 'same', kernel_initializer = initializer)(UpSampling2D(size = (2,2))(conv_dec_2))\n",
        "merge_dec_3 = concatenate([conv_enc_2, up_dec_3], axis = 3)\n",
        "conv_dec_3 = Conv2D(128, 3, activation = 'relu', padding = 'same', kernel_initializer = initializer)(merge_dec_3)\n",
        "conv_dec_3 = Conv2D(128, 3, activation = 'relu', padding = 'same', kernel_initializer = initializer)(conv_dec_3)\n",
        "\n",
        "# Block decoder 4\n",
        "up_dec_4 = Conv2D(64, 2, activation = 'relu', padding = 'same', kernel_initializer = initializer)(UpSampling2D(size = (2,2))(conv_dec_3))\n",
        "merge_dec_4 = concatenate([conv_enc_1, up_dec_4], axis = 3)\n",
        "conv_dec_4 = Conv2D(64, 3, activation = 'relu', padding = 'same', kernel_initializer = initializer)(merge_dec_4)\n",
        "conv_dec_4 = Conv2D(64, 3, activation = 'relu', padding = 'same', kernel_initializer = initializer)(conv_dec_4)\n",
        "conv_dec_4 = Conv2D(2, 3, activation = 'relu', padding = 'same', kernel_initializer = initializer)(conv_dec_4)\n",
        "# -- Dencoder -- #\n",
        "\n",
        "#if start uncommend the output too\n",
        "# output = Conv2D(N_CLASSES, 1, activation = 'sigmoid')(conv_dec_4)"
      ],
      "execution_count": null,
      "outputs": []
    },
    {
      "cell_type": "markdown",
      "metadata": {
        "id": "ntnFfNOmnUpA"
      },
      "source": [
        "### **Dataset Cite**\n",
        "\n",
        "@inproceedings{\n",
        "  inproceedings,\n",
        "    author = {Fumero, Francisco and Sigut, Jose and Alayón, Silvia  andGonzález-Hernández, M and González de la Rosa, M},\n",
        "    year = {2015},\n",
        "    month = {06},\n",
        "    pages = {},\n",
        "    title = {Interactive Tool and Database for Optic Disc and   CupSegmentation of Stereo and Monocular Retinal Fundus Images}\n",
        "}"
      ]
    }
  ]
}